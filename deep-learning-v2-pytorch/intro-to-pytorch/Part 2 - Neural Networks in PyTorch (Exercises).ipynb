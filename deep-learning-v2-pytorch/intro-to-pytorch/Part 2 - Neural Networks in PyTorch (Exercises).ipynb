{
 "cells": [
  {
   "cell_type": "markdown",
   "metadata": {},
   "source": [
    "# Neural networks with PyTorch\n",
    "\n",
    "Deep learning networks tend to be massive with dozens or hundreds of layers, that's where the term \"deep\" comes from. You can build one of these deep networks using only weight matrices as we did in the previous notebook, but in general it's very cumbersome and difficult to implement. PyTorch has a nice module `nn` that provides a nice way to efficiently build large neural networks."
   ]
  },
  {
   "cell_type": "code",
   "execution_count": 1,
   "metadata": {},
   "outputs": [],
   "source": [
    "# Import necessary packages\n",
    "\n",
    "%matplotlib inline\n",
    "%config InlineBackend.figure_format = 'retina'\n",
    "\n",
    "import numpy as np\n",
    "import torch\n",
    "\n",
    "import helper\n",
    "\n",
    "import matplotlib.pyplot as plt"
   ]
  },
  {
   "cell_type": "markdown",
   "metadata": {},
   "source": [
    "\n",
    "Now we're going to build a larger network that can solve a (formerly) difficult problem, identifying text in an image. Here we'll use the MNIST dataset which consists of greyscale handwritten digits. Each image is 28x28 pixels, you can see a sample below\n",
    "\n",
    "<img src='assets/mnist.png'>\n",
    "\n",
    "Our goal is to build a neural network that can take one of these images and predict the digit in the image.\n",
    "\n",
    "First up, we need to get our dataset. This is provided through the `torchvision` package. The code below will download the MNIST dataset, then create training and test datasets for us. Don't worry too much about the details here, you'll learn more about this later."
   ]
  },
  {
   "cell_type": "code",
   "execution_count": 2,
   "metadata": {},
   "outputs": [],
   "source": [
    "### Run this cell\n",
    "\n",
    "from torchvision import datasets, transforms\n",
    "\n",
    "# Define a transform to normalize the data\n",
    "transform = transforms.Compose([transforms.ToTensor(),\n",
    "                              transforms.Normalize((0.5, 0.5, 0.5), (0.5, 0.5, 0.5)),\n",
    "                              ])\n",
    "\n",
    "# Download and load the training data\n",
    "trainset = datasets.MNIST('MNIST_data/', download=True, train=True, transform=transform)\n",
    "trainloader = torch.utils.data.DataLoader(trainset, batch_size=64, shuffle=True)"
   ]
  },
  {
   "cell_type": "markdown",
   "metadata": {},
   "source": [
    "We have the training data loaded into `trainloader` and we make that an iterator with `iter(trainloader)`. Later, we'll use this to loop through the dataset for training, like\n",
    "\n",
    "```python\n",
    "for image, label in trainloader:\n",
    "    ## do things with images and labels\n",
    "```\n",
    "\n",
    "You'll notice I created the `trainloader` with a batch size of 64, and `shuffle=True`. The batch size is the number of images we get in one iteration from the data loader and pass through our network, often called a *batch*. And `shuffle=True` tells it to shuffle the dataset every time we start going through the data loader again. But here I'm just grabbing the first batch so we can check out the data. We can see below that `images` is just a tensor with size `(64, 1, 28, 28)`. So, 64 images per batch, 1 color channel, and 28x28 images."
   ]
  },
  {
   "cell_type": "code",
   "execution_count": 3,
   "metadata": {},
   "outputs": [
    {
     "name": "stdout",
     "output_type": "stream",
     "text": [
      "<class 'torch.Tensor'>\n",
      "torch.Size([64, 1, 28, 28])\n",
      "torch.Size([64])\n"
     ]
    }
   ],
   "source": [
    "dataiter = iter(trainloader)\n",
    "images, labels = dataiter.next()\n",
    "print(type(images))\n",
    "print(images.shape)\n",
    "print(labels.shape)"
   ]
  },
  {
   "cell_type": "markdown",
   "metadata": {},
   "source": [
    "This is what one of the images looks like. "
   ]
  },
  {
   "cell_type": "code",
   "execution_count": 4,
   "metadata": {},
   "outputs": [
    {
     "data": {
      "image/png": "[encoded data removed]",
      "text/plain": [
       "<Figure size 432x288 with 1 Axes>"
      ]
     },
     "metadata": {
      "image/png": {
       "height": 250,
       "width": 253
      },
      "needs_background": "light"
     },
     "output_type": "display_data"
    }
   ],
   "source": [
    "plt.imshow(images[1].numpy().squeeze(), cmap='Greys_r');"
   ]
  },
  {
   "cell_type": "markdown",
   "metadata": {},
   "source": [
    "First, let's try to build a simple network for this dataset using weight matrices and matrix multiplications. Then, we'll see how to do it using PyTorch's `nn` module which provides a much more convenient and powerful method for defining network architectures.\n",
    "\n",
    "The networks you've seen so far are called *fully-connected* or *dense* networks. Each unit in one layer is connected to each unit in the next layer. In fully-connected networks, the input to each layer must be a one-dimensional vector (which can be stacked into a 2D tensor as a batch of multiple examples). However, our images are 28x28 2D tensors, so we need to convert them into 1D vectors. Thinking about sizes, we need to convert the batch of images with shape `(64, 1, 28, 28)` to a have a shape of `(64, 784)`, 784 is 28 times 28. This is typically called *flattening*, we flattened the 2D images into 1D vectors.\n",
    "\n",
    "Previously you built a network with one output unit. Here we need 10 output units, one for each digit. We want our network to predict the digit shown in an image, so what we'll do is calculate probabilities that the image is of any one digit or class. This ends up being a discrete probability distribution over the classes (digits) that tells us the most likely class for the image. That means we need 10 output units for the 10 classes (digits). We'll see how to convert the network output into a probability distribution next.\n",
    "\n",
    "> **Exercise:** Flatten the batch of images `images`. Then build a multi-layer network with 784 input units, 256 hidden units, and 10 output units using random tensors for the weights and biases. For now, use a sigmoid activation for the hidden layer. Leave the output layer without an activation, we'll add one that gives us a probability distribution next."
   ]
  },
  {
   "cell_type": "code",
   "execution_count": 5,
   "metadata": {},
   "outputs": [
    {
     "data": {
      "text/plain": [
       "tensor([[ -6.5373,  16.2590,  -9.2098,  15.4602, -16.0339,   1.7768,  14.1003,\n",
       "          19.6036,   8.5722,  10.9463],\n",
       "        [  7.0809,  17.4559,  -8.8402,   7.4247, -12.5467,   5.8585,  16.6818,\n",
       "           8.1543,  13.8309,  12.5647],\n",
       "        [  3.1748,  17.5512,  -2.8131,  18.6070, -11.8536,   3.2490,  18.7016,\n",
       "          -1.8260,  14.0191,   8.0527],\n",
       "        [ -0.2184,  22.0779,  -3.6609,  19.4283, -14.4363,  -7.0542,  28.2841,\n",
       "          13.2117,   1.6895,   8.9927],\n",
       "        [ -7.6763,  20.4921,  -6.0790,  22.9638, -17.5766,  -2.2591,  31.4184,\n",
       "           7.3285,  11.9550,  11.3361],\n",
       "        [ 16.3885,  23.5077,   6.3055,  15.5930,  -9.9389,   2.8545,  20.8098,\n",
       "           6.9403,   0.1571,  10.8760],\n",
       "        [  2.2028,   5.2027,  -6.8610,  21.9389, -11.9503,  -3.4879,  29.4553,\n",
       "          12.1454,  14.1269,  19.1756],\n",
       "        [  6.2925,  18.8925,  -0.5271,  31.5530, -12.5059,  -2.6560,  19.6005,\n",
       "          11.1865,  -8.7105,   9.0357],\n",
       "        [-12.8722,  22.8668, -10.4451,  14.7674,  -2.8090,  -3.4859,  27.9349,\n",
       "           6.6419,  -1.9264,  15.4574],\n",
       "        [  1.0164,  15.9848, -10.0759,  23.1643, -17.9060,  -2.1302,  12.3335,\n",
       "           9.0175,   8.9808,   8.0202],\n",
       "        [  5.8080,  30.2976,  -1.3540,  20.9378, -25.9190,  -0.0483,  13.8705,\n",
       "           1.2501,  14.2594,  15.5818],\n",
       "        [ -5.4757,  14.4692,  -3.1777,  18.9983, -10.1250,  -2.7821,  21.7822,\n",
       "          14.4524,  -0.1604,   7.8695],\n",
       "        [  6.4563,  15.6156,  -1.2718,  24.5401,  -7.9670, -11.1000,  14.0712,\n",
       "           1.8883, -12.3540,  15.6505],\n",
       "        [ 12.1842,  23.4099,  -9.5640,  14.5531, -20.3118,   7.1231,  24.5394,\n",
       "          14.7502,   7.9065,  11.8314],\n",
       "        [ -5.8205,  12.6065,  -2.4764,   7.2665, -11.3926,   2.7378,  18.6388,\n",
       "          11.0045,  10.1843,   9.5971],\n",
       "        [ -2.3468,  14.5798,  -3.4265,  23.6845, -13.8540,  -5.3303,  33.3182,\n",
       "           8.8843,   4.9916,   9.0200],\n",
       "        [  1.0474,  17.8367,   0.4677,  16.0673, -15.1766,   6.8945,  17.2247,\n",
       "          17.6808, -10.7539,  10.3615],\n",
       "        [ -5.0159,  13.4871, -12.9340,  21.0170,  -9.5942,  -6.2762,  27.8823,\n",
       "          12.9280,   4.2352,   2.0259],\n",
       "        [ -0.0822,  12.3110,   1.9003,  21.0861,  -6.7482,   3.4084,  32.3912,\n",
       "          10.4725,   9.6129,   3.5415],\n",
       "        [  5.7834,  15.8229,  -2.6522,  22.3494, -13.4574,   3.8821,  21.3426,\n",
       "          12.0538,  12.0826,  13.5967],\n",
       "        [  1.5057,  16.7684,  -1.7919,  26.6546, -18.7591,   2.7733,  21.0782,\n",
       "          10.1781,   6.0407,   6.3502],\n",
       "        [  6.7824,  27.7920,  -9.9671,  21.7567, -22.0580,   0.8136,  15.8029,\n",
       "           7.5852,  -6.1262,  16.6558],\n",
       "        [  2.5516,  13.7082,  -5.4897,  21.4865, -18.2926,  -1.3098,  26.4124,\n",
       "          16.5393,   4.2992,  10.1009],\n",
       "        [ 10.5128,  21.6134,  -1.5285,  20.0939, -14.9213,  10.6930,  30.3263,\n",
       "          19.5059,   0.8789,  10.1541],\n",
       "        [  3.2008,  25.0164,  -8.7033,  11.9541, -20.1454,  -6.7692,  20.8545,\n",
       "          11.0612,   1.7573,  11.4829],\n",
       "        [ 10.9358,  17.1473,   3.3157,  16.8732,  -7.9555,   0.6039,  16.1894,\n",
       "           7.8518,   6.1620,  20.1719],\n",
       "        [ 11.4644,  22.2267, -16.4682,  24.4112, -11.6156,   9.1861,  14.5807,\n",
       "           3.0402,   2.4258,  19.5312],\n",
       "        [ 13.2941,  29.2135,  -9.2536,  13.5829, -13.9898,   5.9182,  26.6593,\n",
       "          16.7806,   8.5572,   5.3304],\n",
       "        [  2.8820,  11.6815,  -3.0942,  18.3915, -12.2855,   3.8372,  17.4165,\n",
       "           5.4339,   1.6531,  15.4846],\n",
       "        [ 14.6802,  22.3168,   3.1142,  16.2638, -17.3221,  -0.5184,  13.5825,\n",
       "          16.0187,   1.3538,  13.4977],\n",
       "        [ -1.0103,  11.9677,   0.1962,  25.0736, -16.5412,  -6.0265,  28.9544,\n",
       "           9.3564,   9.1223,  13.2225],\n",
       "        [  7.0741,  15.2860,  -1.9709,  20.7238, -14.1460,  -5.4949,  21.6115,\n",
       "          11.4612,  15.1847,   6.3789],\n",
       "        [  5.1587,  21.9132, -12.8402,  22.3202, -13.1255,   1.2322,  23.0670,\n",
       "           8.1416,  15.1937,  10.2203],\n",
       "        [  4.1232,  12.1262,   2.0183,  20.7923, -14.2252,  -7.0194,  26.4093,\n",
       "           7.3820,   7.1443,   0.2969],\n",
       "        [  9.6143,  21.1265,   0.9458,  23.9213, -12.5763,  -2.0650,  14.6556,\n",
       "           7.7632,  12.9717,  21.3783],\n",
       "        [ -1.5980,  21.1129,  -2.4451,  10.0601, -13.0711,   8.3672,  19.3177,\n",
       "           8.9410,   0.4407,   8.3639],\n",
       "        [ -1.8015,  13.6255,  -0.4047,  13.9070,  -8.6347,  -5.1985,  35.0429,\n",
       "          14.5908,   0.6515,   3.8879],\n",
       "        [  7.0938,  13.1908,  -9.9116,  22.0555, -18.3945,   5.4337,  26.0913,\n",
       "          18.3645,  -0.8558,  12.4593],\n",
       "        [ 10.6513,  23.4415,  -8.2547,  16.1703,  -8.6240,   7.3667,  15.6364,\n",
       "          14.8586,  -0.5547,   6.2368],\n",
       "        [  6.2797,  29.2114,   2.1972,  14.5712, -16.0324,   6.7578,  22.0530,\n",
       "           8.0256,  11.5678,   4.3885],\n",
       "        [ 13.4742,  22.6697,   5.6046,  14.8213, -14.2050,   2.3566,  17.2724,\n",
       "           6.7986,  14.0147,  12.5992],\n",
       "        [  9.4667,  26.1588,   0.4708,  16.9535, -16.5295,   7.3321,  26.8111,\n",
       "           6.9442,   9.6293,   7.6125],\n",
       "        [ -2.8522,  17.6442,  -4.9213,  20.6659, -15.0145, -11.9799,  19.4519,\n",
       "           4.9118,  -1.1478,  17.2605],\n",
       "        [ -8.7949,   3.0698,  -2.2611,  17.5978, -11.2374,   5.2765,  34.3790,\n",
       "          11.2858,   2.6977,  15.5286],\n",
       "        [  4.9045,   3.6697,   2.4300,  22.3024,  -9.7234,   4.2104,  17.2063,\n",
       "          12.8817,  -6.9735,   3.9599],\n",
       "        [  9.9452,  17.8045,  -3.7815,   9.4521, -15.6318,  -0.9997,  24.4020,\n",
       "          19.9507,   3.1582,   1.3666],\n",
       "        [ -1.8133,  12.8869,  -1.5607,  23.4879,  -8.3335,  -9.2091,  19.0998,\n",
       "           4.6933,   2.0129,   3.7952],\n",
       "        [  7.1256,  29.2218,   1.4355,  17.2352, -13.0791,  -4.9548,  10.0271,\n",
       "           3.1354,   2.3044,   3.2175],\n",
       "        [ -0.6111,  20.7664,  -7.4508,  18.0847, -20.7436,  -3.8100,  23.3257,\n",
       "           3.0208,   6.1971,  11.9933],\n",
       "        [ -4.3597,  15.4324,  -1.0704,  22.3606, -11.8096,   0.9787,  20.5810,\n",
       "          19.3208,   3.2626,  12.4550],\n",
       "        [ -8.9088,   7.2361,  -2.3005,  12.1239, -11.0133,   4.1701,  28.7672,\n",
       "           9.4249,  -0.2813,  16.7763],\n",
       "        [ -3.7637,  26.1700,  -5.9505,  21.2791,  -8.4374,  -6.2571,  25.2116,\n",
       "          11.0830,  -0.1795,   7.6507],\n",
       "        [  5.6847,  31.7166,   0.0485,  11.6965, -14.6716,   2.6236,  23.4062,\n",
       "           7.5008,   7.2818,  12.5401],\n",
       "        [ -1.0122,  21.6582,  -2.4094,  19.4495, -19.1650,  -5.2621,  19.3373,\n",
       "           2.7556,  15.9256,  11.9266],\n",
       "        [ -1.6551,  17.3906, -14.3800,  16.9540, -13.9960,   1.5644,  26.5164,\n",
       "           7.5899,  -4.2626,  11.6385],\n",
       "        [ -1.8211,  28.6775,  -1.8938,  17.8769, -12.1048,  -6.5696,  21.3126,\n",
       "           5.6119,  17.8251,   7.0558],\n",
       "        [ -8.9219,  13.5508, -16.4111,  16.2678,  -6.7496,  -1.5825,  20.6131,\n",
       "          14.9305,  -2.1404,   5.4463],\n",
       "        [-11.0792,  18.5290, -12.1807,  11.6060, -13.5704,  -4.7722,  26.0766,\n",
       "           3.3215,   3.2428,   8.9963],\n",
       "        [ 13.5268,  21.1113,  -0.4643,  15.5840, -23.6210,  -3.8127,  13.6635,\n",
       "          12.6741,   9.0306,  15.4432],\n",
       "        [  2.0770,  19.7493,   1.5832,  18.0061, -16.5252,   2.8010,  18.7881,\n",
       "           9.1495,   5.7974,   9.3448],\n",
       "        [ -2.7926,  14.5717,  -1.2856,  21.3095,  -4.6526,  -1.8741,  17.6374,\n",
       "           0.2664,   1.0269,   4.8907],\n",
       "        [ -3.6528,   8.8843,  -8.0986,  17.4756, -16.9915,   6.1979,  27.2042,\n",
       "          18.2119,  -2.3519,   5.3062],\n",
       "        [  1.8200,  16.4209,  -8.9607,  19.0228, -22.3460,  -1.0867,  11.5609,\n",
       "          13.3384,   8.1873,   4.3790],\n",
       "        [ -7.7410,  30.9062,   1.5761,  19.4769, -13.4745,  -8.5092,  26.0669,\n",
       "          -7.2948,  15.6561,  12.6396]])"
      ]
     },
     "execution_count": 5,
     "metadata": {},
     "output_type": "execute_result"
    }
   ],
   "source": [
    "## My solution\n",
    "def sigmoid_activation(a):\n",
    "    return 1/(1 + torch.exp(-a))\n",
    "\n",
    "\n",
    "# Flatten the input images \n",
    "input_images = images.view(images.shape[0], -1)\n",
    "\n",
    "# Parameters \n",
    "w1 = torch.randn(784, 256)\n",
    "b1 = torch.randn(256)\n",
    "\n",
    "w2 = torch.randn(256, 10)\n",
    "b2 = torch.randn(10)\n",
    "\n",
    "hidden = sigmoid_activation(torch.mm(input_images, w1) + b1)\n",
    "out = torch.mm(hidden, w2) + b2\n",
    "out"
   ]
  },
  {
   "cell_type": "markdown",
   "metadata": {},
   "source": [
    "Now we have 10 outputs for our network. We want to pass in an image to our network and get out a probability distribution over the classes that tells us the likely class(es) the image belongs to. Something that looks like this:\n",
    "<img src='assets/image_distribution.png' width=500px>\n",
    "\n",
    "Here we see that the probability for each class is roughly the same. This is representing an untrained network, it hasn't seen any data yet so it just returns a uniform distribution with equal probabilities for each class.\n",
    "\n",
    "To calculate this probability distribution, we often use the [**softmax** function](https://en.wikipedia.org/wiki/Softmax_function). Mathematically this looks like\n",
    "\n",
    "$$\n",
    "\\Large \\sigma(x_i) = \\cfrac{e^{x_i}}{\\sum_k^K{e^{x_k}}}\n",
    "$$\n",
    "\n",
    "What this does is squish each input $x_i$ between 0 and 1 and normalizes the values to give you a proper probability distribution where the probabilites sum up to one.\n",
    "\n",
    "> **Exercise:** Implement a function `softmax` that performs the softmax calculation and returns probability distributions for each example in the batch. Note that you'll need to pay attention to the shapes when doing this. If you have a tensor `a` with shape `(64, 10)` and a tensor `b` with shape `(64,)`, doing `a/b` will give you an error because PyTorch will try to do the division across the columns (called broadcasting) but you'll get a size mismatch. The way to think about this is for each of the 64 examples, you only want to divide by one value, the sum in the denominator. So you need `b` to have a shape of `(64, 1)`. This way PyTorch will divide the 10 values in each row of `a` by the one value in each row of `b`. Pay attention to how you take the sum as well. You'll need to define the `dim` keyword in `torch.sum`. Setting `dim=0` takes the sum across the rows while `dim=1` takes the sum across the columns."
   ]
  },
  {
   "cell_type": "code",
   "execution_count": 6,
   "metadata": {},
   "outputs": [
    {
     "name": "stdout",
     "output_type": "stream",
     "text": [
      "torch.Size([64, 10])\n",
      "tensor([1.0000, 1.0000, 1.0000, 1.0000, 1.0000, 1.0000, 1.0000, 1.0000, 1.0000,\n",
      "        1.0000, 1.0000, 1.0000, 1.0000, 1.0000, 1.0000, 1.0000, 1.0000, 1.0000,\n",
      "        1.0000, 1.0000, 1.0000, 1.0000, 1.0000, 1.0000, 1.0000, 1.0000, 1.0000,\n",
      "        1.0000, 1.0000, 1.0000, 1.0000, 1.0000, 1.0000, 1.0000, 1.0000, 1.0000,\n",
      "        1.0000, 1.0000, 1.0000, 1.0000, 1.0000, 1.0000, 1.0000, 1.0000, 1.0000,\n",
      "        1.0000, 1.0000, 1.0000, 1.0000, 1.0000, 1.0000, 1.0000, 1.0000, 1.0000,\n",
      "        1.0000, 1.0000, 1.0000, 1.0000, 1.0000, 1.0000, 1.0000, 1.0000, 1.0000,\n",
      "        1.0000])\n"
     ]
    }
   ],
   "source": [
    "def softmax(x):\n",
    "    return torch.exp(x)/torch.sum(torch.exp(x), dim = 1).view(-1, 1)\n",
    "\n",
    "# Here, out should be the output of the network in the previous excercise with shape (64,10)\n",
    "probabilities = softmax(out)\n",
    "\n",
    "# Does it have the right shape? Should be (64, 10)\n",
    "print(probabilities.shape)\n",
    "# Does it sum to 1?\n",
    "print(probabilities.sum(dim=1))"
   ]
  },
  {
   "cell_type": "markdown",
   "metadata": {},
   "source": [
    "## Building networks with PyTorch\n",
    "\n",
    "PyTorch provides a module `nn` that makes building networks much simpler. Here I'll show you how to build the same one as above with 784 inputs, 256 hidden units, 10 output units and a softmax output."
   ]
  },
  {
   "cell_type": "code",
   "execution_count": 7,
   "metadata": {},
   "outputs": [],
   "source": [
    "from torch import nn"
   ]
  },
  {
   "cell_type": "code",
   "execution_count": 8,
   "metadata": {},
   "outputs": [],
   "source": [
    "class Network(nn.Module):\n",
    "    def __init__(self):\n",
    "        super().__init__()\n",
    "        \n",
    "        # Inputs to hidden layer linear transformation\n",
    "        self.hidden = nn.Linear(784, 256)\n",
    "        # Output layer, 10 units - one for each digit\n",
    "        self.output = nn.Linear(256, 10)\n",
    "        \n",
    "        # Define sigmoid activation and softmax output \n",
    "        self.sigmoid = nn.Sigmoid()\n",
    "        self.softmax = nn.Softmax(dim=1)\n",
    "        \n",
    "    def forward(self, x):\n",
    "        # Pass the input tensor through each of our operations\n",
    "        x = self.hidden(x)\n",
    "        x = self.sigmoid(x)\n",
    "        x = self.output(x)\n",
    "        x = self.softmax(x)\n",
    "        \n",
    "        return x"
   ]
  },
  {
   "cell_type": "markdown",
   "metadata": {},
   "source": [
    "Let's go through this bit by bit.\n",
    "\n",
    "```python\n",
    "class Network(nn.Module):\n",
    "```\n",
    "\n",
    "Here we're inheriting from `nn.Module`. Combined with `super().__init__()` this creates a class that tracks the architecture and provides a lot of useful methods and attributes. It is mandatory to inherit from `nn.Module` when you're creating a class for your network. The name of the class itself can be anything.\n",
    "\n",
    "```python\n",
    "self.hidden = nn.Linear(784, 256)\n",
    "```\n",
    "\n",
    "This line creates a module for a linear transformation, $x\\mathbf{W} + b$, with 784 inputs and 256 outputs and assigns it to `self.hidden`. The module automatically creates the weight and bias tensors which we'll use in the `forward` method. You can access the weight and bias tensors once the network once it's create at `net.hidden.weight` and `net.hidden.bias`.\n",
    "\n",
    "```python\n",
    "self.output = nn.Linear(256, 10)\n",
    "```\n",
    "\n",
    "Similarly, this creates another linear transformation with 256 inputs and 10 outputs.\n",
    "\n",
    "```python\n",
    "self.sigmoid = nn.Sigmoid()\n",
    "self.softmax = nn.Softmax(dim=1)\n",
    "```\n",
    "\n",
    "Here I defined operations for the sigmoid activation and softmax output. Setting `dim=1` in `nn.Softmax(dim=1)` calculates softmax across the columns.\n",
    "\n",
    "```python\n",
    "def forward(self, x):\n",
    "```\n",
    "\n",
    "PyTorch networks created with `nn.Module` must have a `forward` method defined. It takes in a tensor `x` and passes it through the operations you defined in the `__init__` method.\n",
    "\n",
    "```python\n",
    "x = self.hidden(x)\n",
    "x = self.sigmoid(x)\n",
    "x = self.output(x)\n",
    "x = self.softmax(x)\n",
    "```\n",
    "\n",
    "Here the input tensor `x` is passed through each operation a reassigned to `x`. We can see that the input tensor goes through the hidden layer, then a sigmoid function, then the output layer, and finally the softmax function. It doesn't matter what you name the variables here, as long as the inputs and outputs of the operations match the network architecture you want to build. The order in which you define things in the `__init__` method doesn't matter, but you'll need to sequence the operations correctly in the `forward` method.\n",
    "\n",
    "Now we can create a `Network` object."
   ]
  },
  {
   "cell_type": "code",
   "execution_count": 9,
   "metadata": {},
   "outputs": [
    {
     "data": {
      "text/plain": [
       "Network(\n",
       "  (hidden): Linear(in_features=784, out_features=256, bias=True)\n",
       "  (output): Linear(in_features=256, out_features=10, bias=True)\n",
       "  (sigmoid): Sigmoid()\n",
       "  (softmax): Softmax()\n",
       ")"
      ]
     },
     "execution_count": 9,
     "metadata": {},
     "output_type": "execute_result"
    }
   ],
   "source": [
    "# Create the network and look at it's text representation\n",
    "model = Network()\n",
    "model"
   ]
  },
  {
   "cell_type": "markdown",
   "metadata": {},
   "source": [
    "You can define the network somewhat more concisely and clearly using the `torch.nn.functional` module. This is the most common way you'll see networks defined as many operations are simple element-wise functions. We normally import this module as `F`, `import torch.nn.functional as F`."
   ]
  },
  {
   "cell_type": "code",
   "execution_count": 10,
   "metadata": {},
   "outputs": [],
   "source": [
    "import torch.nn.functional as F\n",
    "\n",
    "class Network(nn.Module):\n",
    "    def __init__(self):\n",
    "        super().__init__()\n",
    "        # Inputs to hidden layer linear transformation\n",
    "        self.hidden = nn.Linear(784, 256)\n",
    "        # Output layer, 10 units - one for each digit\n",
    "        self.output = nn.Linear(256, 10)\n",
    "        \n",
    "    def forward(self, x):\n",
    "        # Hidden layer with sigmoid activation\n",
    "        x = F.sigmoid(self.hidden(x))\n",
    "        # Output layer with softmax activation\n",
    "        x = F.softmax(self.output(x), dim=1)\n",
    "        \n",
    "        return x"
   ]
  },
  {
   "cell_type": "markdown",
   "metadata": {},
   "source": [
    "### Activation functions\n",
    "\n",
    "So far we've only been looking at the softmax activation, but in general any function can be used as an activation function. The only requirement is that for a network to approximate a non-linear function, the activation functions must be non-linear. Here are a few more examples of common activation functions: Tanh (hyperbolic tangent), and ReLU (rectified linear unit).\n",
    "\n",
    "<img src=\"assets/activation.png\" width=700px>\n",
    "\n",
    "In practice, the ReLU function is used almost exclusively as the activation function for hidden layers."
   ]
  },
  {
   "cell_type": "markdown",
   "metadata": {},
   "source": [
    "### Your Turn to Build a Network\n",
    "\n",
    "<img src=\"assets/mlp_mnist.png\" width=600px>\n",
    "\n",
    "> **Exercise:** Create a network with 784 input units, a hidden layer with 128 units and a ReLU activation, then a hidden layer with 64 units and a ReLU activation, and finally an output layer with a softmax activation as shown above. You can use a ReLU activation with the `nn.ReLU` module or `F.relu` function."
   ]
  },
  {
   "cell_type": "code",
   "execution_count": 11,
   "metadata": {
    "scrolled": true
   },
   "outputs": [
    {
     "data": {
      "text/plain": [
       "Network(\n",
       "  (layer1): Linear(in_features=784, out_features=128, bias=True)\n",
       "  (layer2): Linear(in_features=128, out_features=64, bias=True)\n",
       "  (layer3): Linear(in_features=64, out_features=10, bias=True)\n",
       ")"
      ]
     },
     "execution_count": 11,
     "metadata": {},
     "output_type": "execute_result"
    }
   ],
   "source": [
    "## Your solution here\n",
    "class Network(nn.Module):\n",
    "    def __init__(self):\n",
    "        super().__init__()\n",
    "        # Defining the layers, 128, 64, 10 units each\n",
    "        self.layer1 = nn.Linear(784, 128)\n",
    "        self.layer2 = nn.Linear(128, 64)\n",
    "        # Output layer, 10 units - one for each digit\n",
    "        self.layer3 = nn.Linear(64, 10)\n",
    "        \n",
    "    def forward(self, x):\n",
    "        '''\n",
    "        - Forward through the network, \n",
    "        - returns the output logits \n",
    "        '''\n",
    "        \n",
    "        x = self.layer1(x)\n",
    "        x = F.relu(x)\n",
    "        x = self.layer2(x)\n",
    "        x = F.relu(x)\n",
    "        x = self.layer3(x)\n",
    "        x = F.softmax(x, dim=1)\n",
    "        \n",
    "        return x\n",
    "\n",
    "model = Network()\n",
    "model"
   ]
  },
  {
   "cell_type": "markdown",
   "metadata": {},
   "source": [
    "### Initializing weights and biases\n",
    "\n",
    "The weights and such are automatically initialized for you, but it's possible to customize how they are initialized. The weights and biases are tensors attached to the layer you defined, you can get them with `model.fc1.weight` for instance."
   ]
  },
  {
   "cell_type": "code",
   "execution_count": 13,
   "metadata": {},
   "outputs": [
    {
     "name": "stdout",
     "output_type": "stream",
     "text": [
      "Parameter containing:\n",
      "tensor([[-0.0308, -0.0066, -0.0201,  ...,  0.0251, -0.0067, -0.0029],\n",
      "        [ 0.0050,  0.0157,  0.0007,  ..., -0.0315,  0.0304, -0.0167],\n",
      "        [-0.0163,  0.0330,  0.0141,  ...,  0.0119,  0.0046, -0.0013],\n",
      "        ...,\n",
      "        [-0.0327, -0.0047,  0.0284,  ...,  0.0231, -0.0044, -0.0098],\n",
      "        [ 0.0302, -0.0234,  0.0023,  ..., -0.0101, -0.0275,  0.0078],\n",
      "        [-0.0332,  0.0319, -0.0005,  ...,  0.0124, -0.0286, -0.0059]],\n",
      "       requires_grad=True)\n",
      "Parameter containing:\n",
      "tensor([-0.0134,  0.0287, -0.0351,  0.0064,  0.0042, -0.0156,  0.0321,  0.0288,\n",
      "        -0.0096, -0.0237, -0.0239,  0.0124, -0.0202, -0.0257, -0.0208,  0.0341,\n",
      "        -0.0339,  0.0275, -0.0273, -0.0246, -0.0195, -0.0041, -0.0168,  0.0039,\n",
      "        -0.0287,  0.0305, -0.0124, -0.0079, -0.0151,  0.0224,  0.0286,  0.0191,\n",
      "        -0.0159, -0.0247, -0.0324, -0.0261,  0.0300,  0.0146, -0.0102,  0.0269,\n",
      "        -0.0167, -0.0114, -0.0010,  0.0303,  0.0307, -0.0124,  0.0181,  0.0041,\n",
      "        -0.0023,  0.0168,  0.0249, -0.0282, -0.0136,  0.0163,  0.0326, -0.0143,\n",
      "         0.0101, -0.0353, -0.0134,  0.0038,  0.0073, -0.0339, -0.0346,  0.0107,\n",
      "         0.0200, -0.0274, -0.0039, -0.0112,  0.0020, -0.0058, -0.0313,  0.0224,\n",
      "         0.0292, -0.0235,  0.0110, -0.0274,  0.0208, -0.0021,  0.0209,  0.0355,\n",
      "         0.0348, -0.0104, -0.0050,  0.0339,  0.0283, -0.0303,  0.0081,  0.0234,\n",
      "        -0.0060, -0.0281, -0.0181,  0.0329, -0.0318, -0.0279, -0.0095,  0.0085,\n",
      "         0.0033, -0.0327, -0.0303, -0.0200,  0.0310,  0.0298,  0.0270, -0.0237,\n",
      "         0.0204, -0.0248,  0.0341, -0.0049,  0.0292, -0.0175,  0.0243, -0.0148,\n",
      "        -0.0196, -0.0162,  0.0101, -0.0310, -0.0170, -0.0119,  0.0212,  0.0069,\n",
      "        -0.0255, -0.0308,  0.0030, -0.0248, -0.0258, -0.0244, -0.0292, -0.0319],\n",
      "       requires_grad=True)\n"
     ]
    }
   ],
   "source": [
    "print(model.layer1.weight)\n",
    "print(model.layer1.bias)"
   ]
  },
  {
   "cell_type": "markdown",
   "metadata": {},
   "source": [
    "For custom initialization, we want to modify these tensors in place. These are actually autograd *Variables*, so we need to get back the actual tensors with `model.fc1.weight.data`. Once we have the tensors, we can fill them with zeros (for biases) or random normal values."
   ]
  },
  {
   "cell_type": "code",
   "execution_count": 14,
   "metadata": {},
   "outputs": [
    {
     "data": {
      "text/plain": [
       "tensor([0., 0., 0., 0., 0., 0., 0., 0., 0., 0., 0., 0., 0., 0., 0., 0., 0., 0.,\n",
       "        0., 0., 0., 0., 0., 0., 0., 0., 0., 0., 0., 0., 0., 0., 0., 0., 0., 0.,\n",
       "        0., 0., 0., 0., 0., 0., 0., 0., 0., 0., 0., 0., 0., 0., 0., 0., 0., 0.,\n",
       "        0., 0., 0., 0., 0., 0., 0., 0., 0., 0., 0., 0., 0., 0., 0., 0., 0., 0.,\n",
       "        0., 0., 0., 0., 0., 0., 0., 0., 0., 0., 0., 0., 0., 0., 0., 0., 0., 0.,\n",
       "        0., 0., 0., 0., 0., 0., 0., 0., 0., 0., 0., 0., 0., 0., 0., 0., 0., 0.,\n",
       "        0., 0., 0., 0., 0., 0., 0., 0., 0., 0., 0., 0., 0., 0., 0., 0., 0., 0.,\n",
       "        0., 0.])"
      ]
     },
     "execution_count": 14,
     "metadata": {},
     "output_type": "execute_result"
    }
   ],
   "source": [
    "# Set biases to all zeros\n",
    "model.layer1.bias.data.fill_(0)"
   ]
  },
  {
   "cell_type": "code",
   "execution_count": 15,
   "metadata": {},
   "outputs": [
    {
     "data": {
      "text/plain": [
       "tensor([[-0.0013,  0.0059,  0.0002,  ...,  0.0058,  0.0027, -0.0016],\n",
       "        [ 0.0132,  0.0149, -0.0284,  ..., -0.0051, -0.0038, -0.0011],\n",
       "        [ 0.0073, -0.0133, -0.0151,  ..., -0.0016,  0.0023,  0.0058],\n",
       "        ...,\n",
       "        [ 0.0063, -0.0002, -0.0001,  ...,  0.0035, -0.0023, -0.0204],\n",
       "        [-0.0102,  0.0113,  0.0095,  ...,  0.0027, -0.0045, -0.0103],\n",
       "        [-0.0059, -0.0118, -0.0024,  ...,  0.0073, -0.0018,  0.0052]])"
      ]
     },
     "execution_count": 15,
     "metadata": {},
     "output_type": "execute_result"
    }
   ],
   "source": [
    "# sample from random normal with standard dev = 0.01\n",
    "model.layer1.weight.data.normal_(std=0.01)"
   ]
  },
  {
   "cell_type": "markdown",
   "metadata": {},
   "source": [
    "### Forward pass\n",
    "\n",
    "Now that we have a network, let's see what happens when we pass in an image."
   ]
  },
  {
   "cell_type": "code",
   "execution_count": 16,
   "metadata": {},
   "outputs": [
    {
     "data": {
      "image/png": "[encoded data removed]",
      "text/plain": [
       "<Figure size 432x648 with 2 Axes>"
      ]
     },
     "metadata": {
      "image/png": {
       "height": 224,
       "width": 423
      },
      "needs_background": "light"
     },
     "output_type": "display_data"
    }
   ],
   "source": [
    "# Grab some data \n",
    "dataiter = iter(trainloader)\n",
    "images, labels = dataiter.next()\n",
    "\n",
    "# Resize images into a 1D vector, new shape is (batch size, color channels, image pixels) \n",
    "images.resize_(64, 1, 784)\n",
    "# or images.resize_(images.shape[0], 1, 784) to automatically get batch size\n",
    "\n",
    "# Forward pass through the network\n",
    "img_idx = 0\n",
    "ps = model.forward(images[img_idx,:])\n",
    "\n",
    "img = images[img_idx]\n",
    "helper.view_classify(img.view(1, 28, 28), ps)"
   ]
  },
  {
   "cell_type": "markdown",
   "metadata": {},
   "source": [
    "As you can see above, our network has basically no idea what this digit is. It's because we haven't trained it yet, all the weights are random!\n",
    "\n",
    "### Using `nn.Sequential`\n",
    "\n",
    "PyTorch provides a convenient way to build networks like this where a tensor is passed sequentially through operations, `nn.Sequential` ([documentation](https://pytorch.org/docs/master/nn.html#torch.nn.Sequential)). Using this to build the equivalent network:"
   ]
  },
  {
   "cell_type": "code",
   "execution_count": 17,
   "metadata": {},
   "outputs": [
    {
     "name": "stdout",
     "output_type": "stream",
     "text": [
      "Sequential(\n",
      "  (0): Linear(in_features=784, out_features=128, bias=True)\n",
      "  (1): ReLU()\n",
      "  (2): Linear(in_features=128, out_features=64, bias=True)\n",
      "  (3): ReLU()\n",
      "  (4): Linear(in_features=64, out_features=10, bias=True)\n",
      "  (5): Softmax()\n",
      ")\n"
     ]
    },
    {
     "data": {
      "image/png": "[encoded data removed]",
      "text/plain": [
       "<Figure size 432x648 with 2 Axes>"
      ]
     },
     "metadata": {
      "image/png": {
       "height": 224,
       "width": 423
      },
      "needs_background": "light"
     },
     "output_type": "display_data"
    }
   ],
   "source": [
    "# Hyperparameters for our network\n",
    "input_size = 784\n",
    "hidden_sizes = [128, 64]\n",
    "output_size = 10\n",
    "\n",
    "# Build a feed-forward network\n",
    "model = nn.Sequential(nn.Linear(input_size, hidden_sizes[0]),\n",
    "                      nn.ReLU(),\n",
    "                      nn.Linear(hidden_sizes[0], hidden_sizes[1]),\n",
    "                      nn.ReLU(),\n",
    "                      nn.Linear(hidden_sizes[1], output_size),\n",
    "                      nn.Softmax(dim=1))\n",
    "print(model)\n",
    "\n",
    "# Forward pass through the network and display output\n",
    "images, labels = next(iter(trainloader))\n",
    "images.resize_(images.shape[0], 1, 784)\n",
    "ps = model.forward(images[0,:])\n",
    "helper.view_classify(images[0].view(1, 28, 28), ps)"
   ]
  },
  {
   "cell_type": "markdown",
   "metadata": {},
   "source": [
    "The operations are availble by passing in the appropriate index. For example, if you want to get first Linear operation and look at the weights, you'd use `model[0]`."
   ]
  },
  {
   "cell_type": "code",
   "execution_count": 18,
   "metadata": {},
   "outputs": [
    {
     "name": "stdout",
     "output_type": "stream",
     "text": [
      "Linear(in_features=784, out_features=128, bias=True)\n"
     ]
    },
    {
     "data": {
      "text/plain": [
       "Parameter containing:\n",
       "tensor([[-0.0149,  0.0135, -0.0085,  ..., -0.0241, -0.0148,  0.0069],\n",
       "        [ 0.0330, -0.0315,  0.0037,  ..., -0.0173, -0.0004, -0.0259],\n",
       "        [-0.0028,  0.0080,  0.0022,  ..., -0.0044,  0.0015,  0.0210],\n",
       "        ...,\n",
       "        [ 0.0066, -0.0287, -0.0080,  ..., -0.0052,  0.0224, -0.0015],\n",
       "        [-0.0127,  0.0075, -0.0319,  ..., -0.0143, -0.0197, -0.0246],\n",
       "        [-0.0185,  0.0001, -0.0039,  ..., -0.0039, -0.0221,  0.0030]],\n",
       "       requires_grad=True)"
      ]
     },
     "execution_count": 18,
     "metadata": {},
     "output_type": "execute_result"
    }
   ],
   "source": [
    "print(model[0])\n",
    "model[0].weight"
   ]
  },
  {
   "cell_type": "markdown",
   "metadata": {},
   "source": [
    "You can also pass in an `OrderedDict` to name the individual layers and operations, instead of using incremental integers. Note that dictionary keys must be unique, so _each operation must have a different name_."
   ]
  },
  {
   "cell_type": "code",
   "execution_count": 22,
   "metadata": {},
   "outputs": [
    {
     "data": {
      "text/plain": [
       "Sequential(\n",
       "  (layer1): Linear(in_features=784, out_features=128, bias=True)\n",
       "  (relu1): ReLU()\n",
       "  (fc2): Linear(in_features=128, out_features=64, bias=True)\n",
       "  (relu2): ReLU()\n",
       "  (output): Linear(in_features=64, out_features=10, bias=True)\n",
       "  (softmax): Softmax()\n",
       ")"
      ]
     },
     "execution_count": 22,
     "metadata": {},
     "output_type": "execute_result"
    }
   ],
   "source": [
    "from collections import OrderedDict\n",
    "model = nn.Sequential(OrderedDict([\n",
    "                      ('layer1', nn.Linear(input_size, hidden_sizes[0])),\n",
    "                      ('relu1', nn.ReLU()),\n",
    "                      ('fc2', nn.Linear(hidden_sizes[0], hidden_sizes[1])),\n",
    "                      ('relu2', nn.ReLU()),\n",
    "                      ('output', nn.Linear(hidden_sizes[1], output_size)),\n",
    "                      ('softmax', nn.Softmax(dim=1))]))\n",
    "model"
   ]
  },
  {
   "cell_type": "markdown",
   "metadata": {},
   "source": [
    "Now you can access layers either by integer or the name"
   ]
  },
  {
   "cell_type": "code",
   "execution_count": 23,
   "metadata": {},
   "outputs": [
    {
     "name": "stdout",
     "output_type": "stream",
     "text": [
      "Linear(in_features=784, out_features=128, bias=True)\n",
      "Linear(in_features=784, out_features=128, bias=True)\n"
     ]
    }
   ],
   "source": [
    "print(model[0])\n",
    "print(model.layer1)"
   ]
  },
  {
   "cell_type": "markdown",
   "metadata": {},
   "source": [
    "In the next notebook, we'll see how we can train a neural network to accuractly predict the numbers appearing in the MNIST images."
   ]
  }
 ],
 "metadata": {
  "kernelspec": {
   "display_name": "Python 3",
   "language": "python",
   "name": "python3"
  },
  "language_info": {
   "codemirror_mode": {
    "name": "ipython",
    "version": 3
   },
   "file_extension": ".py",
   "mimetype": "text/x-python",
   "name": "python",
   "nbconvert_exporter": "python",
   "pygments_lexer": "ipython3",
   "version": "3.7.0"
  }
 },
 "nbformat": 4,
 "nbformat_minor": 2
}
